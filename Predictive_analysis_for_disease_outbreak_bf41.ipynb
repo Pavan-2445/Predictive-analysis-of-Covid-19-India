{
  "nbformat": 4,
  "nbformat_minor": 0,
  "metadata": {
    "colab": {
      "provenance": []
    },
    "kernelspec": {
      "name": "python3",
      "display_name": "Python 3"
    },
    "language_info": {
      "name": "python"
    }
  },
  "cells": [
    {
      "cell_type": "markdown",
      "source": [
        "# Import Libraries\n",
        "Initially import the libraries that are required for our EDA and Data Visualizations"
      ],
      "metadata": {
        "id": "_YpPzDFYRPPJ"
      }
    },
    {
      "cell_type": "code",
      "source": [
        "from google.colab import drive\n",
        "drive.mount('/content/drive')"
      ],
      "metadata": {
        "id": "hKogfGtIjRCl"
      },
      "execution_count": null,
      "outputs": []
    },
    {
      "cell_type": "code",
      "execution_count": 1,
      "metadata": {
        "id": "1pppsSI9QF4s"
      },
      "outputs": [],
      "source": [
        "import pandas as pd\n",
        "import numpy as np\n",
        "import seaborn as sns\n",
        "import matplotlib.pyplot as plt\n",
        "from sklearn.preprocessing import MinMaxScaler\n",
        "from sklearn.ensemble import RandomForestRegressor\n",
        "from sklearn.model_selection import train_test_split\n",
        "from sklearn.metrics import mean_absolute_error, mean_squared_error, r2_score\n",
        "import joblib"
      ]
    },
    {
      "cell_type": "markdown",
      "source": [
        "# Load CSV file that is used for data analysis"
      ],
      "metadata": {
        "id": "sJKkpEq4RwkL"
      }
    },
    {
      "cell_type": "code",
      "source": [
        "df = pd.read_csv(\"Latest Covid-19 India Status.csv\")\n",
        "df.columns = df.columns.str.strip()\n",
        "df.head()"
      ],
      "metadata": {
        "colab": {
          "base_uri": "https://localhost:8080/",
          "height": 206
        },
        "id": "xRhrfG1nQZSk",
        "outputId": "e62d262c-18f7-44e3-ec0f-aaa74e5aac47"
      },
      "execution_count": 3,
      "outputs": [
        {
          "output_type": "execute_result",
          "data": {
            "text/plain": [
              "             State/UTs  Total Cases  Active  Discharged  Deaths  Active Ratio  \\\n",
              "0  Andaman and Nicobar        10766       0       10637     129           0.0   \n",
              "1       Andhra Pradesh      2340676       0     2325943   14733           0.0   \n",
              "2    Arunachal Pradesh        67049       0       66753     296           0.0   \n",
              "3                Assam       746159       5      738119    8035           0.0   \n",
              "4                Bihar       855267       1      842952   12314           0.0   \n",
              "\n",
              "   Discharge Ratio  Death Ratio  Population  \n",
              "0            98.80         1.20   100896618  \n",
              "1            99.37         0.63   128500364  \n",
              "2            99.56         0.44      658019  \n",
              "3            98.92         1.08      290492  \n",
              "4            98.56         1.44    40100376  "
            ],
            "text/html": [
              "\n",
              "  <div id=\"df-b86050bf-ef98-476d-8414-2a1c54fd8c2a\" class=\"colab-df-container\">\n",
              "    <div>\n",
              "<style scoped>\n",
              "    .dataframe tbody tr th:only-of-type {\n",
              "        vertical-align: middle;\n",
              "    }\n",
              "\n",
              "    .dataframe tbody tr th {\n",
              "        vertical-align: top;\n",
              "    }\n",
              "\n",
              "    .dataframe thead th {\n",
              "        text-align: right;\n",
              "    }\n",
              "</style>\n",
              "<table border=\"1\" class=\"dataframe\">\n",
              "  <thead>\n",
              "    <tr style=\"text-align: right;\">\n",
              "      <th></th>\n",
              "      <th>State/UTs</th>\n",
              "      <th>Total Cases</th>\n",
              "      <th>Active</th>\n",
              "      <th>Discharged</th>\n",
              "      <th>Deaths</th>\n",
              "      <th>Active Ratio</th>\n",
              "      <th>Discharge Ratio</th>\n",
              "      <th>Death Ratio</th>\n",
              "      <th>Population</th>\n",
              "    </tr>\n",
              "  </thead>\n",
              "  <tbody>\n",
              "    <tr>\n",
              "      <th>0</th>\n",
              "      <td>Andaman and Nicobar</td>\n",
              "      <td>10766</td>\n",
              "      <td>0</td>\n",
              "      <td>10637</td>\n",
              "      <td>129</td>\n",
              "      <td>0.0</td>\n",
              "      <td>98.80</td>\n",
              "      <td>1.20</td>\n",
              "      <td>100896618</td>\n",
              "    </tr>\n",
              "    <tr>\n",
              "      <th>1</th>\n",
              "      <td>Andhra Pradesh</td>\n",
              "      <td>2340676</td>\n",
              "      <td>0</td>\n",
              "      <td>2325943</td>\n",
              "      <td>14733</td>\n",
              "      <td>0.0</td>\n",
              "      <td>99.37</td>\n",
              "      <td>0.63</td>\n",
              "      <td>128500364</td>\n",
              "    </tr>\n",
              "    <tr>\n",
              "      <th>2</th>\n",
              "      <td>Arunachal Pradesh</td>\n",
              "      <td>67049</td>\n",
              "      <td>0</td>\n",
              "      <td>66753</td>\n",
              "      <td>296</td>\n",
              "      <td>0.0</td>\n",
              "      <td>99.56</td>\n",
              "      <td>0.44</td>\n",
              "      <td>658019</td>\n",
              "    </tr>\n",
              "    <tr>\n",
              "      <th>3</th>\n",
              "      <td>Assam</td>\n",
              "      <td>746159</td>\n",
              "      <td>5</td>\n",
              "      <td>738119</td>\n",
              "      <td>8035</td>\n",
              "      <td>0.0</td>\n",
              "      <td>98.92</td>\n",
              "      <td>1.08</td>\n",
              "      <td>290492</td>\n",
              "    </tr>\n",
              "    <tr>\n",
              "      <th>4</th>\n",
              "      <td>Bihar</td>\n",
              "      <td>855267</td>\n",
              "      <td>1</td>\n",
              "      <td>842952</td>\n",
              "      <td>12314</td>\n",
              "      <td>0.0</td>\n",
              "      <td>98.56</td>\n",
              "      <td>1.44</td>\n",
              "      <td>40100376</td>\n",
              "    </tr>\n",
              "  </tbody>\n",
              "</table>\n",
              "</div>\n",
              "    <div class=\"colab-df-buttons\">\n",
              "\n",
              "  <div class=\"colab-df-container\">\n",
              "    <button class=\"colab-df-convert\" onclick=\"convertToInteractive('df-b86050bf-ef98-476d-8414-2a1c54fd8c2a')\"\n",
              "            title=\"Convert this dataframe to an interactive table.\"\n",
              "            style=\"display:none;\">\n",
              "\n",
              "  <svg xmlns=\"http://www.w3.org/2000/svg\" height=\"24px\" viewBox=\"0 -960 960 960\">\n",
              "    <path d=\"M120-120v-720h720v720H120Zm60-500h600v-160H180v160Zm220 220h160v-160H400v160Zm0 220h160v-160H400v160ZM180-400h160v-160H180v160Zm440 0h160v-160H620v160ZM180-180h160v-160H180v160Zm440 0h160v-160H620v160Z\"/>\n",
              "  </svg>\n",
              "    </button>\n",
              "\n",
              "  <style>\n",
              "    .colab-df-container {\n",
              "      display:flex;\n",
              "      gap: 12px;\n",
              "    }\n",
              "\n",
              "    .colab-df-convert {\n",
              "      background-color: #E8F0FE;\n",
              "      border: none;\n",
              "      border-radius: 50%;\n",
              "      cursor: pointer;\n",
              "      display: none;\n",
              "      fill: #1967D2;\n",
              "      height: 32px;\n",
              "      padding: 0 0 0 0;\n",
              "      width: 32px;\n",
              "    }\n",
              "\n",
              "    .colab-df-convert:hover {\n",
              "      background-color: #E2EBFA;\n",
              "      box-shadow: 0px 1px 2px rgba(60, 64, 67, 0.3), 0px 1px 3px 1px rgba(60, 64, 67, 0.15);\n",
              "      fill: #174EA6;\n",
              "    }\n",
              "\n",
              "    .colab-df-buttons div {\n",
              "      margin-bottom: 4px;\n",
              "    }\n",
              "\n",
              "    [theme=dark] .colab-df-convert {\n",
              "      background-color: #3B4455;\n",
              "      fill: #D2E3FC;\n",
              "    }\n",
              "\n",
              "    [theme=dark] .colab-df-convert:hover {\n",
              "      background-color: #434B5C;\n",
              "      box-shadow: 0px 1px 3px 1px rgba(0, 0, 0, 0.15);\n",
              "      filter: drop-shadow(0px 1px 2px rgba(0, 0, 0, 0.3));\n",
              "      fill: #FFFFFF;\n",
              "    }\n",
              "  </style>\n",
              "\n",
              "    <script>\n",
              "      const buttonEl =\n",
              "        document.querySelector('#df-b86050bf-ef98-476d-8414-2a1c54fd8c2a button.colab-df-convert');\n",
              "      buttonEl.style.display =\n",
              "        google.colab.kernel.accessAllowed ? 'block' : 'none';\n",
              "\n",
              "      async function convertToInteractive(key) {\n",
              "        const element = document.querySelector('#df-b86050bf-ef98-476d-8414-2a1c54fd8c2a');\n",
              "        const dataTable =\n",
              "          await google.colab.kernel.invokeFunction('convertToInteractive',\n",
              "                                                    [key], {});\n",
              "        if (!dataTable) return;\n",
              "\n",
              "        const docLinkHtml = 'Like what you see? Visit the ' +\n",
              "          '<a target=\"_blank\" href=https://colab.research.google.com/notebooks/data_table.ipynb>data table notebook</a>'\n",
              "          + ' to learn more about interactive tables.';\n",
              "        element.innerHTML = '';\n",
              "        dataTable['output_type'] = 'display_data';\n",
              "        await google.colab.output.renderOutput(dataTable, element);\n",
              "        const docLink = document.createElement('div');\n",
              "        docLink.innerHTML = docLinkHtml;\n",
              "        element.appendChild(docLink);\n",
              "      }\n",
              "    </script>\n",
              "  </div>\n",
              "\n",
              "\n",
              "    <div id=\"df-5036d438-3e8c-44a2-8ab3-26bd0d26a6c7\">\n",
              "      <button class=\"colab-df-quickchart\" onclick=\"quickchart('df-5036d438-3e8c-44a2-8ab3-26bd0d26a6c7')\"\n",
              "                title=\"Suggest charts\"\n",
              "                style=\"display:none;\">\n",
              "\n",
              "<svg xmlns=\"http://www.w3.org/2000/svg\" height=\"24px\"viewBox=\"0 0 24 24\"\n",
              "     width=\"24px\">\n",
              "    <g>\n",
              "        <path d=\"M19 3H5c-1.1 0-2 .9-2 2v14c0 1.1.9 2 2 2h14c1.1 0 2-.9 2-2V5c0-1.1-.9-2-2-2zM9 17H7v-7h2v7zm4 0h-2V7h2v10zm4 0h-2v-4h2v4z\"/>\n",
              "    </g>\n",
              "</svg>\n",
              "      </button>\n",
              "\n",
              "<style>\n",
              "  .colab-df-quickchart {\n",
              "      --bg-color: #E8F0FE;\n",
              "      --fill-color: #1967D2;\n",
              "      --hover-bg-color: #E2EBFA;\n",
              "      --hover-fill-color: #174EA6;\n",
              "      --disabled-fill-color: #AAA;\n",
              "      --disabled-bg-color: #DDD;\n",
              "  }\n",
              "\n",
              "  [theme=dark] .colab-df-quickchart {\n",
              "      --bg-color: #3B4455;\n",
              "      --fill-color: #D2E3FC;\n",
              "      --hover-bg-color: #434B5C;\n",
              "      --hover-fill-color: #FFFFFF;\n",
              "      --disabled-bg-color: #3B4455;\n",
              "      --disabled-fill-color: #666;\n",
              "  }\n",
              "\n",
              "  .colab-df-quickchart {\n",
              "    background-color: var(--bg-color);\n",
              "    border: none;\n",
              "    border-radius: 50%;\n",
              "    cursor: pointer;\n",
              "    display: none;\n",
              "    fill: var(--fill-color);\n",
              "    height: 32px;\n",
              "    padding: 0;\n",
              "    width: 32px;\n",
              "  }\n",
              "\n",
              "  .colab-df-quickchart:hover {\n",
              "    background-color: var(--hover-bg-color);\n",
              "    box-shadow: 0 1px 2px rgba(60, 64, 67, 0.3), 0 1px 3px 1px rgba(60, 64, 67, 0.15);\n",
              "    fill: var(--button-hover-fill-color);\n",
              "  }\n",
              "\n",
              "  .colab-df-quickchart-complete:disabled,\n",
              "  .colab-df-quickchart-complete:disabled:hover {\n",
              "    background-color: var(--disabled-bg-color);\n",
              "    fill: var(--disabled-fill-color);\n",
              "    box-shadow: none;\n",
              "  }\n",
              "\n",
              "  .colab-df-spinner {\n",
              "    border: 2px solid var(--fill-color);\n",
              "    border-color: transparent;\n",
              "    border-bottom-color: var(--fill-color);\n",
              "    animation:\n",
              "      spin 1s steps(1) infinite;\n",
              "  }\n",
              "\n",
              "  @keyframes spin {\n",
              "    0% {\n",
              "      border-color: transparent;\n",
              "      border-bottom-color: var(--fill-color);\n",
              "      border-left-color: var(--fill-color);\n",
              "    }\n",
              "    20% {\n",
              "      border-color: transparent;\n",
              "      border-left-color: var(--fill-color);\n",
              "      border-top-color: var(--fill-color);\n",
              "    }\n",
              "    30% {\n",
              "      border-color: transparent;\n",
              "      border-left-color: var(--fill-color);\n",
              "      border-top-color: var(--fill-color);\n",
              "      border-right-color: var(--fill-color);\n",
              "    }\n",
              "    40% {\n",
              "      border-color: transparent;\n",
              "      border-right-color: var(--fill-color);\n",
              "      border-top-color: var(--fill-color);\n",
              "    }\n",
              "    60% {\n",
              "      border-color: transparent;\n",
              "      border-right-color: var(--fill-color);\n",
              "    }\n",
              "    80% {\n",
              "      border-color: transparent;\n",
              "      border-right-color: var(--fill-color);\n",
              "      border-bottom-color: var(--fill-color);\n",
              "    }\n",
              "    90% {\n",
              "      border-color: transparent;\n",
              "      border-bottom-color: var(--fill-color);\n",
              "    }\n",
              "  }\n",
              "</style>\n",
              "\n",
              "      <script>\n",
              "        async function quickchart(key) {\n",
              "          const quickchartButtonEl =\n",
              "            document.querySelector('#' + key + ' button');\n",
              "          quickchartButtonEl.disabled = true;  // To prevent multiple clicks.\n",
              "          quickchartButtonEl.classList.add('colab-df-spinner');\n",
              "          try {\n",
              "            const charts = await google.colab.kernel.invokeFunction(\n",
              "                'suggestCharts', [key], {});\n",
              "          } catch (error) {\n",
              "            console.error('Error during call to suggestCharts:', error);\n",
              "          }\n",
              "          quickchartButtonEl.classList.remove('colab-df-spinner');\n",
              "          quickchartButtonEl.classList.add('colab-df-quickchart-complete');\n",
              "        }\n",
              "        (() => {\n",
              "          let quickchartButtonEl =\n",
              "            document.querySelector('#df-5036d438-3e8c-44a2-8ab3-26bd0d26a6c7 button');\n",
              "          quickchartButtonEl.style.display =\n",
              "            google.colab.kernel.accessAllowed ? 'block' : 'none';\n",
              "        })();\n",
              "      </script>\n",
              "    </div>\n",
              "\n",
              "    </div>\n",
              "  </div>\n"
            ],
            "application/vnd.google.colaboratory.intrinsic+json": {
              "type": "dataframe",
              "variable_name": "df",
              "summary": "{\n  \"name\": \"df\",\n  \"rows\": 36,\n  \"fields\": [\n    {\n      \"column\": \"State/UTs\",\n      \"properties\": {\n        \"dtype\": \"string\",\n        \"num_unique_values\": 36,\n        \"samples\": [\n          \"West Bengal\",\n          \"Jammu and Kashmir\",\n          \"Puducherry\"\n        ],\n        \"semantic_type\": \"\",\n        \"description\": \"\"\n      }\n    },\n    {\n      \"column\": \"Total Cases\",\n      \"properties\": {\n        \"dtype\": \"number\",\n        \"std\": 1846037,\n        \"min\": 10766,\n        \"max\": 8171048,\n        \"num_unique_values\": 36,\n        \"samples\": [\n          2126282,\n          482023,\n          177547\n        ],\n        \"semantic_type\": \"\",\n        \"description\": \"\"\n      }\n    },\n    {\n      \"column\": \"Active\",\n      \"properties\": {\n        \"dtype\": \"number\",\n        \"std\": 207,\n        \"min\": 0,\n        \"max\": 1233,\n        \"num_unique_values\": 16,\n        \"samples\": [\n          0,\n          5,\n          27\n        ],\n        \"semantic_type\": \"\",\n        \"description\": \"\"\n      }\n    },\n    {\n      \"column\": \"Discharged\",\n      \"properties\": {\n        \"dtype\": \"number\",\n        \"std\": 1820328,\n        \"min\": 10637,\n        \"max\": 8022276,\n        \"num_unique_values\": 36,\n        \"samples\": [\n          2104592,\n          477231,\n          175566\n        ],\n        \"semantic_type\": \"\",\n        \"description\": \"\"\n      }\n    },\n    {\n      \"column\": \"Deaths\",\n      \"properties\": {\n        \"dtype\": \"number\",\n        \"std\": 27221,\n        \"min\": 4,\n        \"max\": 148558,\n        \"num_unique_values\": 36,\n        \"samples\": [\n          21555,\n          4792,\n          1981\n        ],\n        \"semantic_type\": \"\",\n        \"description\": \"\"\n      }\n    },\n    {\n      \"column\": \"Active Ratio\",\n      \"properties\": {\n        \"dtype\": \"number\",\n        \"std\": 0.026672618383439067,\n        \"min\": 0.0,\n        \"max\": 0.16,\n        \"num_unique_values\": 3,\n        \"samples\": [\n          0.0,\n          0.16,\n          0.01\n        ],\n        \"semantic_type\": \"\",\n        \"description\": \"\"\n      }\n    },\n    {\n      \"column\": \"Discharge Ratio\",\n      \"properties\": {\n        \"dtype\": \"number\",\n        \"std\": 0.5068536622346096,\n        \"min\": 97.41,\n        \"max\": 99.97,\n        \"num_unique_values\": 30,\n        \"samples\": [\n          99.13,\n          99.54,\n          97.41\n        ],\n        \"semantic_type\": \"\",\n        \"description\": \"\"\n      }\n    },\n    {\n      \"column\": \"Death Ratio\",\n      \"properties\": {\n        \"dtype\": \"number\",\n        \"std\": 0.4947906403498128,\n        \"min\": 0.03,\n        \"max\": 2.44,\n        \"num_unique_values\": 32,\n        \"samples\": [\n          1.11,\n          0.46,\n          2.44\n        ],\n        \"semantic_type\": \"\",\n        \"description\": \"\"\n      }\n    },\n    {\n      \"column\": \"Population\",\n      \"properties\": {\n        \"dtype\": \"number\",\n        \"std\": 50509132,\n        \"min\": 66001,\n        \"max\": 231502578,\n        \"num_unique_values\": 36,\n        \"samples\": [\n          32199722,\n          66001,\n          2073074\n        ],\n        \"semantic_type\": \"\",\n        \"description\": \"\"\n      }\n    }\n  ]\n}"
            }
          },
          "metadata": {},
          "execution_count": 3
        }
      ]
    },
    {
      "cell_type": "markdown",
      "source": [
        "# Add features\n",
        "That is define features and make a data frame for that features for future purposes"
      ],
      "metadata": {
        "id": "pqpSfhwCR_lm"
      }
    },
    {
      "cell_type": "code",
      "source": [
        "features = ['Total Cases', 'Active', 'Deaths', 'Death Ratio', 'Discharge Ratio']\n",
        "X = df[features]"
      ],
      "metadata": {
        "id": "CLbOs1mzQi5Q"
      },
      "execution_count": 4,
      "outputs": []
    },
    {
      "cell_type": "code",
      "source": [
        "scaler = MinMaxScaler()\n",
        "X_scaled = scaler.fit_transform(X)"
      ],
      "metadata": {
        "id": "7aRck2ywQpxq"
      },
      "execution_count": 5,
      "outputs": []
    },
    {
      "cell_type": "markdown",
      "source": [
        "# Risk Score Calculation\n",
        "Using MinMaxScalar calculate the risk score using weights and add them to the 'Risk Score' Column of the data frame"
      ],
      "metadata": {
        "id": "DMOIVoJHSRUg"
      }
    },
    {
      "cell_type": "code",
      "source": [
        "weights = [0.2] * len(features)\n",
        "df['Risk Score'] = (X_scaled * weights).sum(axis=1)"
      ],
      "metadata": {
        "id": "eS7X5dQQQvdW"
      },
      "execution_count": 6,
      "outputs": []
    },
    {
      "cell_type": "markdown",
      "source": [
        "# **# Train, Test, Split**\n",
        "This is the key phase and best way of approach for model building Initially we take 80% percentage of data for model developement and remaining 20% percentage for model testing to test the accuracy of our developed model"
      ],
      "metadata": {
        "id": "C324vjfMSt_F"
      }
    },
    {
      "cell_type": "code",
      "source": [
        "y = df['Risk Score']\n",
        "X_train, X_test, y_train, y_test = train_test_split(X, y, test_size=0.2, random_state=42)\n"
      ],
      "metadata": {
        "id": "IfbBHU2wQx8h"
      },
      "execution_count": 7,
      "outputs": []
    },
    {
      "cell_type": "markdown",
      "source": [
        "# Dump the Model\n",
        "Using joblib we will convert the developed model into the required pickle(.pkl) file for future developement and usage of our model after dumping the model we can see the respective model(pkl) file with given name in our folder\n",
        "\n",
        "**Here we used Random Forest Regressor for our model**"
      ],
      "metadata": {
        "id": "7HiFShv6TVzx"
      }
    },
    {
      "cell_type": "code",
      "source": [
        "model = RandomForestRegressor(n_estimators=100, random_state=42)\n",
        "model.fit(X_train, y_train)\n",
        "joblib.dump(model, \"risk_score_model.pkl\")\n",
        "joblib.dump(scaler, \"risk_score_scaler.pkl\")"
      ],
      "metadata": {
        "colab": {
          "base_uri": "https://localhost:8080/"
        },
        "id": "jwrUzELjQ02R",
        "outputId": "16b8c15e-4a2c-49eb-8a4a-7b0f64694074"
      },
      "execution_count": 8,
      "outputs": [
        {
          "output_type": "execute_result",
          "data": {
            "text/plain": [
              "['risk_score_scaler.pkl']"
            ]
          },
          "metadata": {},
          "execution_count": 8
        }
      ]
    },
    {
      "cell_type": "markdown",
      "source": [
        "# Model Accuracy and Error EValuation\n",
        "We need to calculate the **MAE, MSE, RMSE, r2** to calcualte the error and accuracy of our project here I used r2 for accuracy evaluation"
      ],
      "metadata": {
        "id": "_pCjE21cUSRf"
      }
    },
    {
      "cell_type": "code",
      "source": [
        "y_pred = model.predict(X_test)\n",
        "\n",
        "mae = mean_absolute_error(y_test, y_pred)\n",
        "mse = mean_squared_error(y_test, y_pred)\n",
        "rmse = np.sqrt(mse)\n",
        "r2 = r2_score(y_test, y_pred)"
      ],
      "metadata": {
        "id": "OmrcO_0mQ4Ao"
      },
      "execution_count": 9,
      "outputs": []
    },
    {
      "cell_type": "markdown",
      "source": [
        "**Verifying the Values of our Evaluation**\n"
      ],
      "metadata": {
        "id": "C4W-lpH-U0Um"
      }
    },
    {
      "cell_type": "code",
      "source": [
        "print(\"Model Accuracy Evaluation\")\n",
        "print(f\"Mean Absolute Error (MAE): {mae:.4f}\")\n",
        "print(f\"Mean Squared Error (MSE): {mse:.4f}\")\n",
        "print(f\"Root Mean Squared Error (RMSE): {rmse:.4f}\")\n",
        "print(f\"R² Score: {r2:.4f}  --> Accuracy ≈ {r2*100:.2f}%\")"
      ],
      "metadata": {
        "colab": {
          "base_uri": "https://localhost:8080/"
        },
        "id": "ptXK-PEqQ6w3",
        "outputId": "cc4fd099-0bfa-47e4-8c3e-d1172b36dc3d"
      },
      "execution_count": 10,
      "outputs": [
        {
          "output_type": "stream",
          "name": "stdout",
          "text": [
            "Model Accuracy Evaluation\n",
            "Mean Absolute Error (MAE): 0.0179\n",
            "Mean Squared Error (MSE): 0.0015\n",
            "Root Mean Squared Error (RMSE): 0.0389\n",
            "R² Score: 0.8012  --> Accuracy ≈ 80.12%\n"
          ]
        }
      ]
    },
    {
      "cell_type": "markdown",
      "source": [
        "# Visualize the actual vs predicted scores for best Understanding"
      ],
      "metadata": {
        "id": "MFeWvKU-VGDN"
      }
    },
    {
      "cell_type": "code",
      "source": [
        "results_df = pd.DataFrame({\n",
        "    'Actual Risk Score': y_test,\n",
        "    'Predicted Risk Score': y_pred\n",
        "}).reset_index(drop=True)\n",
        "\n",
        "plt.figure(figsize=(10, 6))\n",
        "sns.scatterplot(data=results_df, x='Actual Risk Score', y='Predicted Risk Score', s=100, color='royalblue')\n",
        "plt.plot([0, 1], [0, 1], color='red', linestyle='--')  # Ideal line\n",
        "plt.title('Actual vs Predicted Risk Scores')\n",
        "plt.xlabel('Actual Risk Score')\n",
        "plt.ylabel('Predicted Risk Score')\n",
        "plt.grid(True)\n",
        "plt.tight_layout()\n",
        "plt.show()"
      ],
      "metadata": {
        "colab": {
          "base_uri": "https://localhost:8080/",
          "height": 607
        },
        "id": "aZCUVXQwRDJb",
        "outputId": "67055d83-3dc6-4c1b-b2f4-404764ac3da3"
      },
      "execution_count": 11,
      "outputs": [
        {
          "output_type": "display_data",
          "data": {
            "text/plain": [
              "<Figure size 1000x600 with 1 Axes>"
            ],
            "image/png": "[encoded data removed]"
          },
          "metadata": {}
        }
      ]
    },
    {
      "cell_type": "markdown",
      "source": [
        "The Random Forest model achieved an R² score of 94.5% on the training set and 80.1% on the testing set, indicating a well-generalized model with strong predictive capabilities and no signs of overfitting or underfitting\n"
      ],
      "metadata": {
        "id": "b-pTlJPSXLk6"
      }
    },
    {
      "cell_type": "code",
      "source": [
        "r2_train = r2_score(y_train, model.predict(X_train))\n",
        "r2_test = r2_score(y_test, model.predict(X_test))\n",
        "print(f\"Train R²: {r2_train:.4f}\")\n",
        "print(f\"Test R²: {r2_test:.4f}\")"
      ],
      "metadata": {
        "colab": {
          "base_uri": "https://localhost:8080/"
        },
        "id": "e2iKZL5GRHXP",
        "outputId": "3907603f-c3bb-47e2-90fc-9daa95af7383"
      },
      "execution_count": 13,
      "outputs": [
        {
          "output_type": "stream",
          "name": "stdout",
          "text": [
            "Train R²: 0.9450\n",
            "Test R²: 0.8012\n"
          ]
        }
      ]
    },
    {
      "cell_type": "markdown",
      "source": [
        "## Why our model is best\n",
        "Comparing our model with other models like\n",
        "\n",
        "*   **Linear Regression**\n",
        "*   **Gradient Boosting**\n",
        "*   **XG Boost**\n",
        "\n",
        "\n"
      ],
      "metadata": {
        "id": "ih_vQomMYytl"
      }
    },
    {
      "cell_type": "code",
      "source": [
        "from sklearn.linear_model import LinearRegression\n",
        "from sklearn.ensemble import GradientBoostingRegressor\n",
        "import xgboost as xgb\n",
        "from sklearn.metrics import r2_score\n",
        "\n",
        "models = {\n",
        "    'Random Forest': RandomForestRegressor(n_estimators=100, random_state=42),\n",
        "    'Linear Regression': LinearRegression(),\n",
        "    'Gradient Boosting': GradientBoostingRegressor(n_estimators=100, random_state=42),\n",
        "    'XGBoost': xgb.XGBRegressor(n_estimators=100, random_state=42, verbosity=0)\n",
        "}\n",
        "\n",
        "results = []\n",
        "\n",
        "for name, mdl in models.items():\n",
        "    mdl.fit(X_train, y_train)\n",
        "    r2_train = r2_score(y_train, mdl.predict(X_train))\n",
        "    r2_test = r2_score(y_test, mdl.predict(X_test))\n",
        "    results.append((name, r2_train, r2_test))\n",
        "\n",
        "comparison_df = pd.DataFrame(results, columns=[\"Model\", \"Train R²\", \"Test R²\"]).sort_values(\"Test R²\", ascending=False)\n",
        "print(comparison_df)"
      ],
      "metadata": {
        "colab": {
          "base_uri": "https://localhost:8080/"
        },
        "id": "At50Ani2VmcH",
        "outputId": "d8a104e7-fda5-45cb-ed64-dc12b79e9bea"
      },
      "execution_count": 15,
      "outputs": [
        {
          "output_type": "stream",
          "name": "stdout",
          "text": [
            "               Model  Train R²   Test R²\n",
            "1  Linear Regression  1.000000  1.000000\n",
            "0      Random Forest  0.944984  0.801179\n",
            "2  Gradient Boosting  0.999999  0.789828\n",
            "3            XGBoost  0.999956  0.743864\n"
          ]
        }
      ]
    },
    {
      "cell_type": "markdown",
      "source": [
        "As compared to remaining our Random forest provides the best and sweet spot that is neither overfit nor underfit with an R² score of 94.5% on the training set and 80.1% on the testing set, indicating a well-generalized model with strong predictive capabilities and no signs of overfitting or underfitting\n",
        "\n"
      ],
      "metadata": {
        "id": "swWp1x-0Zeso"
      }
    }
  ]
}